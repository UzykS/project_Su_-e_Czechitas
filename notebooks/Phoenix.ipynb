{
 "cells": [
  {
   "cell_type": "code",
   "execution_count": 99,
   "metadata": {},
   "outputs": [],
   "source": [
    "import pandas as pd\n",
    "import re\n",
    "import numpy as np\n",
    "from datetime import datetime\n"
   ]
  },
  {
   "cell_type": "code",
   "execution_count": 100,
   "metadata": {},
   "outputs": [],
   "source": [
    "phoenix = pd.read_csv('../data_sources/phoenix/PHOENIX.csv', encoding=\"utf-8\", low_memory=False, usecols=['OCCURRED ON', 'UCR CRIME CATEGORY', 'PREMISE TYPE'])"
   ]
  },
  {
   "cell_type": "code",
   "execution_count": 101,
   "metadata": {},
   "outputs": [
    {
     "data": {
      "text/html": [
       "<div>\n",
       "<style scoped>\n",
       "    .dataframe tbody tr th:only-of-type {\n",
       "        vertical-align: middle;\n",
       "    }\n",
       "\n",
       "    .dataframe tbody tr th {\n",
       "        vertical-align: top;\n",
       "    }\n",
       "\n",
       "    .dataframe thead th {\n",
       "        text-align: right;\n",
       "    }\n",
       "</style>\n",
       "<table border=\"1\" class=\"dataframe\">\n",
       "  <thead>\n",
       "    <tr style=\"text-align: right;\">\n",
       "      <th></th>\n",
       "      <th>OCCURRED ON</th>\n",
       "      <th>UCR CRIME CATEGORY</th>\n",
       "      <th>PREMISE TYPE</th>\n",
       "    </tr>\n",
       "  </thead>\n",
       "  <tbody>\n",
       "    <tr>\n",
       "      <th>0</th>\n",
       "      <td>11/01/2015  00:00</td>\n",
       "      <td>RAPE</td>\n",
       "      <td>SINGLE FAMILY HOUSE</td>\n",
       "    </tr>\n",
       "    <tr>\n",
       "      <th>1</th>\n",
       "      <td>11/01/2015  00:00</td>\n",
       "      <td>LARCENY-THEFT</td>\n",
       "      <td>APARTMENT</td>\n",
       "    </tr>\n",
       "    <tr>\n",
       "      <th>2</th>\n",
       "      <td>11/01/2015  00:00</td>\n",
       "      <td>LARCENY-THEFT</td>\n",
       "      <td>PARKING LOT</td>\n",
       "    </tr>\n",
       "    <tr>\n",
       "      <th>3</th>\n",
       "      <td>11/01/2015  00:00</td>\n",
       "      <td>MOTOR VEHICLE THEFT</td>\n",
       "      <td>SINGLE FAMILY HOUSE</td>\n",
       "    </tr>\n",
       "    <tr>\n",
       "      <th>4</th>\n",
       "      <td>11/01/2015  00:00</td>\n",
       "      <td>MOTOR VEHICLE THEFT</td>\n",
       "      <td>SINGLE FAMILY HOUSE</td>\n",
       "    </tr>\n",
       "    <tr>\n",
       "      <th>5</th>\n",
       "      <td>11/01/2015  00:00</td>\n",
       "      <td>MOTOR VEHICLE THEFT</td>\n",
       "      <td>SINGLE FAMILY HOUSE</td>\n",
       "    </tr>\n",
       "    <tr>\n",
       "      <th>6</th>\n",
       "      <td>11/01/2015  00:00</td>\n",
       "      <td>LARCENY-THEFT</td>\n",
       "      <td>PARKING LOT</td>\n",
       "    </tr>\n",
       "    <tr>\n",
       "      <th>7</th>\n",
       "      <td>11/01/2015  00:00</td>\n",
       "      <td>DRUG OFFENSE</td>\n",
       "      <td>APARTMENT</td>\n",
       "    </tr>\n",
       "    <tr>\n",
       "      <th>8</th>\n",
       "      <td>11/01/2015  00:00</td>\n",
       "      <td>LARCENY-THEFT</td>\n",
       "      <td>SINGLE FAMILY HOUSE</td>\n",
       "    </tr>\n",
       "    <tr>\n",
       "      <th>9</th>\n",
       "      <td>11/01/2015  00:00</td>\n",
       "      <td>RAPE</td>\n",
       "      <td>HOSPITAL</td>\n",
       "    </tr>\n",
       "  </tbody>\n",
       "</table>\n",
       "</div>"
      ],
      "text/plain": [
       "         OCCURRED ON   UCR CRIME CATEGORY         PREMISE TYPE\n",
       "0  11/01/2015  00:00                 RAPE  SINGLE FAMILY HOUSE\n",
       "1  11/01/2015  00:00        LARCENY-THEFT            APARTMENT\n",
       "2  11/01/2015  00:00        LARCENY-THEFT          PARKING LOT\n",
       "3  11/01/2015  00:00  MOTOR VEHICLE THEFT  SINGLE FAMILY HOUSE\n",
       "4  11/01/2015  00:00  MOTOR VEHICLE THEFT  SINGLE FAMILY HOUSE\n",
       "5  11/01/2015  00:00  MOTOR VEHICLE THEFT  SINGLE FAMILY HOUSE\n",
       "6  11/01/2015  00:00        LARCENY-THEFT          PARKING LOT\n",
       "7  11/01/2015  00:00         DRUG OFFENSE            APARTMENT\n",
       "8  11/01/2015  00:00        LARCENY-THEFT  SINGLE FAMILY HOUSE\n",
       "9  11/01/2015  00:00                 RAPE             HOSPITAL"
      ]
     },
     "execution_count": 101,
     "metadata": {},
     "output_type": "execute_result"
    }
   ],
   "source": [
    "phoenix.head(10)"
   ]
  },
  {
   "cell_type": "code",
   "execution_count": 102,
   "metadata": {},
   "outputs": [
    {
     "data": {
      "text/html": [
       "<div>\n",
       "<style scoped>\n",
       "    .dataframe tbody tr th:only-of-type {\n",
       "        vertical-align: middle;\n",
       "    }\n",
       "\n",
       "    .dataframe tbody tr th {\n",
       "        vertical-align: top;\n",
       "    }\n",
       "\n",
       "    .dataframe thead th {\n",
       "        text-align: right;\n",
       "    }\n",
       "</style>\n",
       "<table border=\"1\" class=\"dataframe\">\n",
       "  <thead>\n",
       "    <tr style=\"text-align: right;\">\n",
       "      <th></th>\n",
       "      <th>OCCURRED ON</th>\n",
       "      <th>UCR CRIME CATEGORY</th>\n",
       "      <th>PREMISE TYPE</th>\n",
       "    </tr>\n",
       "  </thead>\n",
       "  <tbody>\n",
       "    <tr>\n",
       "      <th>count</th>\n",
       "      <td>508140</td>\n",
       "      <td>508559</td>\n",
       "      <td>505201</td>\n",
       "    </tr>\n",
       "    <tr>\n",
       "      <th>unique</th>\n",
       "      <td>322564</td>\n",
       "      <td>9</td>\n",
       "      <td>98</td>\n",
       "    </tr>\n",
       "    <tr>\n",
       "      <th>top</th>\n",
       "      <td>01/01/2020  00:00</td>\n",
       "      <td>LARCENY-THEFT</td>\n",
       "      <td>SINGLE FAMILY HOUSE</td>\n",
       "    </tr>\n",
       "    <tr>\n",
       "      <th>freq</th>\n",
       "      <td>74</td>\n",
       "      <td>259363</td>\n",
       "      <td>73718</td>\n",
       "    </tr>\n",
       "  </tbody>\n",
       "</table>\n",
       "</div>"
      ],
      "text/plain": [
       "              OCCURRED ON UCR CRIME CATEGORY         PREMISE TYPE\n",
       "count              508140             508559               505201\n",
       "unique             322564                  9                   98\n",
       "top     01/01/2020  00:00      LARCENY-THEFT  SINGLE FAMILY HOUSE\n",
       "freq                   74             259363                73718"
      ]
     },
     "execution_count": 102,
     "metadata": {},
     "output_type": "execute_result"
    }
   ],
   "source": [
    "phoenix.describe(include='all')"
   ]
  },
  {
   "cell_type": "code",
   "execution_count": 103,
   "metadata": {},
   "outputs": [
    {
     "data": {
      "text/plain": [
       "array(['RAPE', 'LARCENY-THEFT', 'MOTOR VEHICLE THEFT', 'DRUG OFFENSE',\n",
       "       'BURGLARY', 'AGGRAVATED ASSAULT',\n",
       "       'MURDER AND NON-NEGLIGENT MANSLAUGHTER', 'ROBBERY', 'ARSON'],\n",
       "      dtype=object)"
      ]
     },
     "execution_count": 103,
     "metadata": {},
     "output_type": "execute_result"
    }
   ],
   "source": [
    "phoenix[\"UCR CRIME CATEGORY\"].unique()"
   ]
  },
  {
   "cell_type": "code",
   "execution_count": 104,
   "metadata": {},
   "outputs": [
    {
     "data": {
      "text/html": [
       "<div>\n",
       "<style scoped>\n",
       "    .dataframe tbody tr th:only-of-type {\n",
       "        vertical-align: middle;\n",
       "    }\n",
       "\n",
       "    .dataframe tbody tr th {\n",
       "        vertical-align: top;\n",
       "    }\n",
       "\n",
       "    .dataframe thead th {\n",
       "        text-align: right;\n",
       "    }\n",
       "</style>\n",
       "<table border=\"1\" class=\"dataframe\">\n",
       "  <thead>\n",
       "    <tr style=\"text-align: right;\">\n",
       "      <th></th>\n",
       "      <th>OCCURRED ON</th>\n",
       "      <th>UCR CRIME CATEGORY</th>\n",
       "      <th>PREMISE TYPE</th>\n",
       "    </tr>\n",
       "  </thead>\n",
       "  <tbody>\n",
       "    <tr>\n",
       "      <th>0</th>\n",
       "      <td>11/01/2015  00:00</td>\n",
       "      <td>RAPE</td>\n",
       "      <td>SINGLE FAMILY HOUSE</td>\n",
       "    </tr>\n",
       "    <tr>\n",
       "      <th>1</th>\n",
       "      <td>11/01/2015  00:00</td>\n",
       "      <td>LARCENY-THEFT</td>\n",
       "      <td>APARTMENT</td>\n",
       "    </tr>\n",
       "    <tr>\n",
       "      <th>2</th>\n",
       "      <td>11/01/2015  00:00</td>\n",
       "      <td>LARCENY-THEFT</td>\n",
       "      <td>PARKING LOT</td>\n",
       "    </tr>\n",
       "    <tr>\n",
       "      <th>3</th>\n",
       "      <td>11/01/2015  00:00</td>\n",
       "      <td>MOTOR VEHICLE THEFT</td>\n",
       "      <td>SINGLE FAMILY HOUSE</td>\n",
       "    </tr>\n",
       "    <tr>\n",
       "      <th>4</th>\n",
       "      <td>11/01/2015  00:00</td>\n",
       "      <td>MOTOR VEHICLE THEFT</td>\n",
       "      <td>SINGLE FAMILY HOUSE</td>\n",
       "    </tr>\n",
       "  </tbody>\n",
       "</table>\n",
       "</div>"
      ],
      "text/plain": [
       "         OCCURRED ON   UCR CRIME CATEGORY         PREMISE TYPE\n",
       "0  11/01/2015  00:00                 RAPE  SINGLE FAMILY HOUSE\n",
       "1  11/01/2015  00:00        LARCENY-THEFT            APARTMENT\n",
       "2  11/01/2015  00:00        LARCENY-THEFT          PARKING LOT\n",
       "3  11/01/2015  00:00  MOTOR VEHICLE THEFT  SINGLE FAMILY HOUSE\n",
       "4  11/01/2015  00:00  MOTOR VEHICLE THEFT  SINGLE FAMILY HOUSE"
      ]
     },
     "execution_count": 104,
     "metadata": {},
     "output_type": "execute_result"
    }
   ],
   "source": [
    "phoenix.head()\n"
   ]
  },
  {
   "cell_type": "code",
   "execution_count": 105,
   "metadata": {},
   "outputs": [],
   "source": [
    "phoenix.rename(columns={'OCCURRED ON' : 'Date', 'UCR CRIME CATEGORY' : 'Specific crime'}, inplace=True)\n"
   ]
  },
  {
   "cell_type": "code",
   "execution_count": 106,
   "metadata": {},
   "outputs": [],
   "source": [
    "phoenix['Crime'] = 0"
   ]
  },
  {
   "cell_type": "code",
   "execution_count": 107,
   "metadata": {},
   "outputs": [
    {
     "data": {
      "text/plain": [
       "<bound method NDFrame.head of                      Date       Specific crime         PREMISE TYPE  Crime\n",
       "0       11/01/2015  00:00                 RAPE  SINGLE FAMILY HOUSE      0\n",
       "1       11/01/2015  00:00        LARCENY-THEFT            APARTMENT      0\n",
       "2       11/01/2015  00:00        LARCENY-THEFT          PARKING LOT      0\n",
       "3       11/01/2015  00:00  MOTOR VEHICLE THEFT  SINGLE FAMILY HOUSE      0\n",
       "4       11/01/2015  00:00  MOTOR VEHICLE THEFT  SINGLE FAMILY HOUSE      0\n",
       "...                   ...                  ...                  ...    ...\n",
       "508554  10/12/2023  22:55        LARCENY-THEFT       PARKING GARAGE      0\n",
       "508555  10/12/2023  23:00  MOTOR VEHICLE THEFT  SINGLE FAMILY HOUSE      0\n",
       "508556  10/12/2023  23:07  MOTOR VEHICLE THEFT            APARTMENT      0\n",
       "508557  10/12/2023  23:30  MOTOR VEHICLE THEFT  SINGLE FAMILY HOUSE      0\n",
       "508558  10/12/2023  23:30  MOTOR VEHICLE THEFT  SINGLE FAMILY HOUSE      0\n",
       "\n",
       "[508559 rows x 4 columns]>"
      ]
     },
     "execution_count": 107,
     "metadata": {},
     "output_type": "execute_result"
    }
   ],
   "source": [
    "phoenix.head"
   ]
  },
  {
   "cell_type": "code",
   "execution_count": 108,
   "metadata": {},
   "outputs": [],
   "source": [
    "phoenix['Date'] = pd.to_datetime(phoenix['Date'], format=\"%m/%d/%Y %H:%M\" , errors='coerce')\n",
    "phoenix['Date'] = phoenix['Date'].dt.strftime('%d/%m/%Y')"
   ]
  },
  {
   "cell_type": "code",
   "execution_count": 109,
   "metadata": {},
   "outputs": [],
   "source": [
    "phoenix['City'] = \"Phoenix\""
   ]
  },
  {
   "cell_type": "code",
   "execution_count": 110,
   "metadata": {},
   "outputs": [],
   "source": [
    "phoenix = phoenix[[\"Date\", \"City\", \"Crime\", \"Specific crime\"]]"
   ]
  },
  {
   "cell_type": "code",
   "execution_count": 111,
   "metadata": {},
   "outputs": [
    {
     "data": {
      "text/plain": [
       "<bound method NDFrame.head of               Date     City  Crime       Specific crime\n",
       "0       01/11/2015  Phoenix      0                 RAPE\n",
       "1       01/11/2015  Phoenix      0        LARCENY-THEFT\n",
       "2       01/11/2015  Phoenix      0        LARCENY-THEFT\n",
       "3       01/11/2015  Phoenix      0  MOTOR VEHICLE THEFT\n",
       "4       01/11/2015  Phoenix      0  MOTOR VEHICLE THEFT\n",
       "...            ...      ...    ...                  ...\n",
       "508554  12/10/2023  Phoenix      0        LARCENY-THEFT\n",
       "508555  12/10/2023  Phoenix      0  MOTOR VEHICLE THEFT\n",
       "508556  12/10/2023  Phoenix      0  MOTOR VEHICLE THEFT\n",
       "508557  12/10/2023  Phoenix      0  MOTOR VEHICLE THEFT\n",
       "508558  12/10/2023  Phoenix      0  MOTOR VEHICLE THEFT\n",
       "\n",
       "[508559 rows x 4 columns]>"
      ]
     },
     "execution_count": 111,
     "metadata": {},
     "output_type": "execute_result"
    }
   ],
   "source": [
    "phoenix.head"
   ]
  },
  {
   "cell_type": "code",
   "execution_count": 112,
   "metadata": {},
   "outputs": [],
   "source": [
    "phoenix.to_csv('../data_standartized/phoenix.csv', index=False)"
   ]
  }
 ],
 "metadata": {
  "kernelspec": {
   "display_name": "Python 3",
   "language": "python",
   "name": "python3"
  },
  "language_info": {
   "codemirror_mode": {
    "name": "ipython",
    "version": 3
   },
   "file_extension": ".py",
   "mimetype": "text/x-python",
   "name": "python",
   "nbconvert_exporter": "python",
   "pygments_lexer": "ipython3",
   "version": "3.11.4"
  },
  "orig_nbformat": 4
 },
 "nbformat": 4,
 "nbformat_minor": 2
}
