{
 "cells": [
  {
   "cell_type": "code",
   "execution_count": 79,
   "metadata": {},
   "outputs": [],
   "source": [
    "import pandas as pd"
   ]
  },
  {
   "cell_type": "code",
   "execution_count": 80,
   "metadata": {},
   "outputs": [],
   "source": [
    "chicago_raw = pd.read_csv(\"../data_sources/chicago/CHICAGO.csv\", encoding=\"utf-8\", low_memory=False, usecols=['Date', 'Primary Type'])"
   ]
  },
  {
   "cell_type": "code",
   "execution_count": 81,
   "metadata": {},
   "outputs": [
    {
     "name": "stdout",
     "output_type": "stream",
     "text": [
      "Date\n",
      "Primary Type\n"
     ]
    }
   ],
   "source": [
    "for col in chicago_raw.columns:\n",
    "    print(col)"
   ]
  },
  {
   "cell_type": "code",
   "execution_count": 82,
   "metadata": {},
   "outputs": [
    {
     "data": {
      "text/html": [
       "<div>\n",
       "<style scoped>\n",
       "    .dataframe tbody tr th:only-of-type {\n",
       "        vertical-align: middle;\n",
       "    }\n",
       "\n",
       "    .dataframe tbody tr th {\n",
       "        vertical-align: top;\n",
       "    }\n",
       "\n",
       "    .dataframe thead th {\n",
       "        text-align: right;\n",
       "    }\n",
       "</style>\n",
       "<table border=\"1\" class=\"dataframe\">\n",
       "  <thead>\n",
       "    <tr style=\"text-align: right;\">\n",
       "      <th></th>\n",
       "      <th>Date</th>\n",
       "      <th>Primary Type</th>\n",
       "    </tr>\n",
       "  </thead>\n",
       "  <tbody>\n",
       "    <tr>\n",
       "      <th>0</th>\n",
       "      <td>08/25/2007 09:22:18 AM</td>\n",
       "      <td>ASSAULT</td>\n",
       "    </tr>\n",
       "    <tr>\n",
       "      <th>1</th>\n",
       "      <td>01/05/2002 09:24:00 PM</td>\n",
       "      <td>THEFT</td>\n",
       "    </tr>\n",
       "    <tr>\n",
       "      <th>2</th>\n",
       "      <td>09/06/2023 05:00:00 PM</td>\n",
       "      <td>CRIMINAL DAMAGE</td>\n",
       "    </tr>\n",
       "    <tr>\n",
       "      <th>3</th>\n",
       "      <td>08/31/2023 12:00:00 PM</td>\n",
       "      <td>DECEPTIVE PRACTICE</td>\n",
       "    </tr>\n",
       "    <tr>\n",
       "      <th>4</th>\n",
       "      <td>07/24/2023 09:45:00 PM</td>\n",
       "      <td>CRIMINAL SEXUAL ASSAULT</td>\n",
       "    </tr>\n",
       "    <tr>\n",
       "      <th>5</th>\n",
       "      <td>08/27/2023 07:00:00 AM</td>\n",
       "      <td>THEFT</td>\n",
       "    </tr>\n",
       "    <tr>\n",
       "      <th>6</th>\n",
       "      <td>09/04/2023 09:30:00 PM</td>\n",
       "      <td>CRIMINAL DAMAGE</td>\n",
       "    </tr>\n",
       "    <tr>\n",
       "      <th>7</th>\n",
       "      <td>08/15/2023 02:20:00 PM</td>\n",
       "      <td>THEFT</td>\n",
       "    </tr>\n",
       "    <tr>\n",
       "      <th>8</th>\n",
       "      <td>07/24/2023 04:09:00 PM</td>\n",
       "      <td>DECEPTIVE PRACTICE</td>\n",
       "    </tr>\n",
       "    <tr>\n",
       "      <th>9</th>\n",
       "      <td>09/03/2023 10:27:00 AM</td>\n",
       "      <td>THEFT</td>\n",
       "    </tr>\n",
       "  </tbody>\n",
       "</table>\n",
       "</div>"
      ],
      "text/plain": [
       "                     Date             Primary Type\n",
       "0  08/25/2007 09:22:18 AM                  ASSAULT\n",
       "1  01/05/2002 09:24:00 PM                    THEFT\n",
       "2  09/06/2023 05:00:00 PM          CRIMINAL DAMAGE\n",
       "3  08/31/2023 12:00:00 PM       DECEPTIVE PRACTICE\n",
       "4  07/24/2023 09:45:00 PM  CRIMINAL SEXUAL ASSAULT\n",
       "5  08/27/2023 07:00:00 AM                    THEFT\n",
       "6  09/04/2023 09:30:00 PM          CRIMINAL DAMAGE\n",
       "7  08/15/2023 02:20:00 PM                    THEFT\n",
       "8  07/24/2023 04:09:00 PM       DECEPTIVE PRACTICE\n",
       "9  09/03/2023 10:27:00 AM                    THEFT"
      ]
     },
     "execution_count": 82,
     "metadata": {},
     "output_type": "execute_result"
    }
   ],
   "source": [
    "chicago_raw.head(10)"
   ]
  },
  {
   "cell_type": "code",
   "execution_count": 83,
   "metadata": {},
   "outputs": [
    {
     "data": {
      "text/html": [
       "<div>\n",
       "<style scoped>\n",
       "    .dataframe tbody tr th:only-of-type {\n",
       "        vertical-align: middle;\n",
       "    }\n",
       "\n",
       "    .dataframe tbody tr th {\n",
       "        vertical-align: top;\n",
       "    }\n",
       "\n",
       "    .dataframe thead th {\n",
       "        text-align: right;\n",
       "    }\n",
       "</style>\n",
       "<table border=\"1\" class=\"dataframe\">\n",
       "  <thead>\n",
       "    <tr style=\"text-align: right;\">\n",
       "      <th></th>\n",
       "      <th>Date</th>\n",
       "      <th>Primary Type</th>\n",
       "    </tr>\n",
       "  </thead>\n",
       "  <tbody>\n",
       "    <tr>\n",
       "      <th>count</th>\n",
       "      <td>7937641</td>\n",
       "      <td>7937641</td>\n",
       "    </tr>\n",
       "    <tr>\n",
       "      <th>unique</th>\n",
       "      <td>3278565</td>\n",
       "      <td>36</td>\n",
       "    </tr>\n",
       "    <tr>\n",
       "      <th>top</th>\n",
       "      <td>01/01/2008 12:01:00 AM</td>\n",
       "      <td>THEFT</td>\n",
       "    </tr>\n",
       "    <tr>\n",
       "      <th>freq</th>\n",
       "      <td>303</td>\n",
       "      <td>1675624</td>\n",
       "    </tr>\n",
       "  </tbody>\n",
       "</table>\n",
       "</div>"
      ],
      "text/plain": [
       "                          Date Primary Type\n",
       "count                  7937641      7937641\n",
       "unique                 3278565           36\n",
       "top     01/01/2008 12:01:00 AM        THEFT\n",
       "freq                       303      1675624"
      ]
     },
     "execution_count": 83,
     "metadata": {},
     "output_type": "execute_result"
    }
   ],
   "source": [
    "chicago_raw.describe(include='all')"
   ]
  },
  {
   "cell_type": "code",
   "execution_count": 84,
   "metadata": {},
   "outputs": [
    {
     "data": {
      "text/plain": [
       "array(['ASSAULT', 'THEFT', 'CRIMINAL DAMAGE', 'DECEPTIVE PRACTICE',\n",
       "       'CRIMINAL SEXUAL ASSAULT', 'OFFENSE INVOLVING CHILDREN', 'ROBBERY',\n",
       "       'SEX OFFENSE', 'OTHER OFFENSE', 'WEAPONS VIOLATION', 'BATTERY',\n",
       "       'STALKING', 'MOTOR VEHICLE THEFT', 'CRIMINAL TRESPASS', 'HOMICIDE',\n",
       "       'PROSTITUTION', 'BURGLARY', 'NARCOTICS', 'KIDNAPPING', 'ARSON',\n",
       "       'CONCEALED CARRY LICENSE VIOLATION',\n",
       "       'INTERFERENCE WITH PUBLIC OFFICER', 'PUBLIC PEACE VIOLATION',\n",
       "       'LIQUOR LAW VIOLATION', 'INTIMIDATION', 'GAMBLING', 'OBSCENITY',\n",
       "       'HUMAN TRAFFICKING', 'CRIM SEXUAL ASSAULT',\n",
       "       'OTHER NARCOTIC VIOLATION', 'RITUALISM', 'PUBLIC INDECENCY',\n",
       "       'DOMESTIC VIOLENCE', 'NON-CRIMINAL',\n",
       "       'NON-CRIMINAL (SUBJECT SPECIFIED)', 'NON - CRIMINAL'], dtype=object)"
      ]
     },
     "execution_count": 84,
     "metadata": {},
     "output_type": "execute_result"
    }
   ],
   "source": [
    "chicago_raw['Primary Type'].unique()"
   ]
  },
  {
   "cell_type": "code",
   "execution_count": 85,
   "metadata": {},
   "outputs": [],
   "source": [
    "crime_dict = {\n",
    "    'ASSAULT': 'Assault and Violent Crimes',\n",
    "    'THEFT': 'Theft and Property Offenses',\n",
    "    'CRIMINAL DAMAGE': 'Miscellaneous Offenses',\n",
    "    'DECEPTIVE PRACTICE': 'Fraud and Deception',\n",
    "    'CRIMINAL SEXUAL ASSAULT': 'Sexual Offenses',\n",
    "    'OFFENSE INVOLVING CHILDREN': 'Child-Related Offenses',\n",
    "    'ROBBERY': 'Theft and Property Offenses',\n",
    "    'SEX OFFENSE': 'Sexual Offenses',\n",
    "    'OTHER OFFENSE': 'Miscellaneous Offenses',\n",
    "    'WEAPONS VIOLATION': 'Firearm and Weapon-Related Crimes',\n",
    "    'BATTERY': 'Assault and Violent Crimes',\n",
    "    'STALKING': 'Harassment and Intimidation',\n",
    "    'MOTOR VEHICLE THEFT': 'Traffic and Vehicle-Related Offenses',\n",
    "    'CRIMINAL TRESPASS': 'Miscellaneous Offenses',\n",
    "    'HOMICIDE': 'Assault and Violent Crimes',\n",
    "    'PROSTITUTION': 'Miscellaneous Offenses',\n",
    "    'BURGLARY': 'Theft and Property Offenses',\n",
    "    'NARCOTICS': 'Miscellaneous Offenses',\n",
    "    'KIDNAPPING': 'Child-Related Offenses',\n",
    "    'ARSON': 'Miscellaneous Offenses',\n",
    "    'CONCEALED CARRY LICENSE VIOLATION': 'Firearm and Weapon-Related Crimes',\n",
    "    'INTERFERENCE WITH PUBLIC OFFICER': 'Miscellaneous Offenses',\n",
    "    'PUBLIC PEACE VIOLATION': 'Miscellaneous Offenses',\n",
    "    'LIQUOR LAW VIOLATION': 'Miscellaneous Offenses',\n",
    "    'INTIMIDATION': 'Harassment and Intimidation',\n",
    "    'GAMBLING': 'Miscellaneous Offenses',\n",
    "    'OBSCENITY': 'Miscellaneous Offenses',\n",
    "    'HUMAN TRAFFICKING': 'Miscellaneous Offenses',\n",
    "    'CRIM SEXUAL ASSAULT': 'Sexual Offenses',\n",
    "    'OTHER NARCOTIC VIOLATION': 'Miscellaneous Offenses',\n",
    "    'RITUALISM': 'Miscellaneous Offenses',\n",
    "    'PUBLIC INDECENCY': 'Miscellaneous Offenses',\n",
    "    'DOMESTIC VIOLENCE': 'Assault and Violent Crimes',\n",
    "    'NON-CRIMINAL': 'Miscellaneous Offenses',\n",
    "    'NON-CRIMINAL (SUBJECT SPECIFIED)': 'Miscellaneous Offenses',\n",
    "    'NON - CRIMINAL': 'Miscellaneous Offenses'\n",
    "}\n"
   ]
  },
  {
   "cell_type": "code",
   "execution_count": 86,
   "metadata": {},
   "outputs": [
    {
     "name": "stdout",
     "output_type": "stream",
     "text": [
      "Унікальні категорії злочинів:\n",
      "Theft and Property Offenses\n",
      "Child-Related Offenses\n",
      "Firearm and Weapon-Related Crimes\n",
      "Harassment and Intimidation\n",
      "Assault and Violent Crimes\n",
      "Sexual Offenses\n",
      "Traffic and Vehicle-Related Offenses\n",
      "Miscellaneous Offenses\n",
      "Fraud and Deception\n",
      "\n",
      "Загальна кількість унікальних категорій: 9\n"
     ]
    }
   ],
   "source": [
    "crime_categories = set(crime_dict.values())\n",
    "\n",
    "# Вивести унікальні категорії\n",
    "print(\"Унікальні категорії злочинів:\")\n",
    "for category in crime_categories:\n",
    "    print(category)\n",
    "\n",
    "# Порахувати кількість унікальних категорій\n",
    "кількість_категорій = len(crime_categories)\n",
    "print(f\"\\nЗагальна кількість унікальних категорій: {кількість_категорій}\")"
   ]
  },
  {
   "cell_type": "code",
   "execution_count": 87,
   "metadata": {},
   "outputs": [],
   "source": [
    "chicago_raw['Crime'] = chicago_raw['Primary Type'].map(crime_dict)"
   ]
  },
  {
   "cell_type": "code",
   "execution_count": 88,
   "metadata": {},
   "outputs": [],
   "source": [
    "chicago_raw.rename(columns={'Primary Type' : 'Specific crime'}, inplace=True)"
   ]
  },
  {
   "cell_type": "code",
   "execution_count": 89,
   "metadata": {},
   "outputs": [],
   "source": [
    "chicago_raw['City'] = 'Chicago'"
   ]
  },
  {
   "cell_type": "code",
   "execution_count": 90,
   "metadata": {},
   "outputs": [
    {
     "data": {
      "text/html": [
       "<div>\n",
       "<style scoped>\n",
       "    .dataframe tbody tr th:only-of-type {\n",
       "        vertical-align: middle;\n",
       "    }\n",
       "\n",
       "    .dataframe tbody tr th {\n",
       "        vertical-align: top;\n",
       "    }\n",
       "\n",
       "    .dataframe thead th {\n",
       "        text-align: right;\n",
       "    }\n",
       "</style>\n",
       "<table border=\"1\" class=\"dataframe\">\n",
       "  <thead>\n",
       "    <tr style=\"text-align: right;\">\n",
       "      <th></th>\n",
       "      <th>Date</th>\n",
       "      <th>Specific crime</th>\n",
       "      <th>Crime</th>\n",
       "      <th>City</th>\n",
       "    </tr>\n",
       "  </thead>\n",
       "  <tbody>\n",
       "    <tr>\n",
       "      <th>0</th>\n",
       "      <td>08/25/2007 09:22:18 AM</td>\n",
       "      <td>ASSAULT</td>\n",
       "      <td>Assault and Violent Crimes</td>\n",
       "      <td>Chicago</td>\n",
       "    </tr>\n",
       "    <tr>\n",
       "      <th>1</th>\n",
       "      <td>01/05/2002 09:24:00 PM</td>\n",
       "      <td>THEFT</td>\n",
       "      <td>Theft and Property Offenses</td>\n",
       "      <td>Chicago</td>\n",
       "    </tr>\n",
       "    <tr>\n",
       "      <th>2</th>\n",
       "      <td>09/06/2023 05:00:00 PM</td>\n",
       "      <td>CRIMINAL DAMAGE</td>\n",
       "      <td>Miscellaneous Offenses</td>\n",
       "      <td>Chicago</td>\n",
       "    </tr>\n",
       "    <tr>\n",
       "      <th>3</th>\n",
       "      <td>08/31/2023 12:00:00 PM</td>\n",
       "      <td>DECEPTIVE PRACTICE</td>\n",
       "      <td>Fraud and Deception</td>\n",
       "      <td>Chicago</td>\n",
       "    </tr>\n",
       "    <tr>\n",
       "      <th>4</th>\n",
       "      <td>07/24/2023 09:45:00 PM</td>\n",
       "      <td>CRIMINAL SEXUAL ASSAULT</td>\n",
       "      <td>Sexual Offenses</td>\n",
       "      <td>Chicago</td>\n",
       "    </tr>\n",
       "  </tbody>\n",
       "</table>\n",
       "</div>"
      ],
      "text/plain": [
       "                     Date           Specific crime  \\\n",
       "0  08/25/2007 09:22:18 AM                  ASSAULT   \n",
       "1  01/05/2002 09:24:00 PM                    THEFT   \n",
       "2  09/06/2023 05:00:00 PM          CRIMINAL DAMAGE   \n",
       "3  08/31/2023 12:00:00 PM       DECEPTIVE PRACTICE   \n",
       "4  07/24/2023 09:45:00 PM  CRIMINAL SEXUAL ASSAULT   \n",
       "\n",
       "                         Crime     City  \n",
       "0   Assault and Violent Crimes  Chicago  \n",
       "1  Theft and Property Offenses  Chicago  \n",
       "2       Miscellaneous Offenses  Chicago  \n",
       "3          Fraud and Deception  Chicago  \n",
       "4              Sexual Offenses  Chicago  "
      ]
     },
     "execution_count": 90,
     "metadata": {},
     "output_type": "execute_result"
    }
   ],
   "source": [
    "chicago_raw.head()"
   ]
  },
  {
   "cell_type": "code",
   "execution_count": 91,
   "metadata": {},
   "outputs": [],
   "source": [
    "chicago_raw['Date'] = pd.to_datetime(chicago_raw['Date'], format=\"%m/%d/%Y %H:%M:%S %p\" , errors='coerce')\n",
    "chicago_raw['Date'] = chicago_raw['Date'].dt.strftime('%d/%m/%Y')"
   ]
  },
  {
   "cell_type": "code",
   "execution_count": 92,
   "metadata": {},
   "outputs": [
    {
     "data": {
      "text/html": [
       "<div>\n",
       "<style scoped>\n",
       "    .dataframe tbody tr th:only-of-type {\n",
       "        vertical-align: middle;\n",
       "    }\n",
       "\n",
       "    .dataframe tbody tr th {\n",
       "        vertical-align: top;\n",
       "    }\n",
       "\n",
       "    .dataframe thead th {\n",
       "        text-align: right;\n",
       "    }\n",
       "</style>\n",
       "<table border=\"1\" class=\"dataframe\">\n",
       "  <thead>\n",
       "    <tr style=\"text-align: right;\">\n",
       "      <th></th>\n",
       "      <th>Date</th>\n",
       "      <th>Specific crime</th>\n",
       "      <th>Crime</th>\n",
       "      <th>City</th>\n",
       "    </tr>\n",
       "  </thead>\n",
       "  <tbody>\n",
       "    <tr>\n",
       "      <th>0</th>\n",
       "      <td>25/08/2007</td>\n",
       "      <td>ASSAULT</td>\n",
       "      <td>Assault and Violent Crimes</td>\n",
       "      <td>Chicago</td>\n",
       "    </tr>\n",
       "    <tr>\n",
       "      <th>1</th>\n",
       "      <td>05/01/2002</td>\n",
       "      <td>THEFT</td>\n",
       "      <td>Theft and Property Offenses</td>\n",
       "      <td>Chicago</td>\n",
       "    </tr>\n",
       "    <tr>\n",
       "      <th>2</th>\n",
       "      <td>06/09/2023</td>\n",
       "      <td>CRIMINAL DAMAGE</td>\n",
       "      <td>Miscellaneous Offenses</td>\n",
       "      <td>Chicago</td>\n",
       "    </tr>\n",
       "    <tr>\n",
       "      <th>3</th>\n",
       "      <td>31/08/2023</td>\n",
       "      <td>DECEPTIVE PRACTICE</td>\n",
       "      <td>Fraud and Deception</td>\n",
       "      <td>Chicago</td>\n",
       "    </tr>\n",
       "    <tr>\n",
       "      <th>4</th>\n",
       "      <td>24/07/2023</td>\n",
       "      <td>CRIMINAL SEXUAL ASSAULT</td>\n",
       "      <td>Sexual Offenses</td>\n",
       "      <td>Chicago</td>\n",
       "    </tr>\n",
       "  </tbody>\n",
       "</table>\n",
       "</div>"
      ],
      "text/plain": [
       "         Date           Specific crime                        Crime     City\n",
       "0  25/08/2007                  ASSAULT   Assault and Violent Crimes  Chicago\n",
       "1  05/01/2002                    THEFT  Theft and Property Offenses  Chicago\n",
       "2  06/09/2023          CRIMINAL DAMAGE       Miscellaneous Offenses  Chicago\n",
       "3  31/08/2023       DECEPTIVE PRACTICE          Fraud and Deception  Chicago\n",
       "4  24/07/2023  CRIMINAL SEXUAL ASSAULT              Sexual Offenses  Chicago"
      ]
     },
     "execution_count": 92,
     "metadata": {},
     "output_type": "execute_result"
    }
   ],
   "source": [
    "chicago_raw.head()"
   ]
  },
  {
   "cell_type": "code",
   "execution_count": 93,
   "metadata": {},
   "outputs": [],
   "source": [
    "chicago_raw = chicago_raw[[\"Date\", \"City\", \"Crime\", \"Specific crime\"]]"
   ]
  },
  {
   "cell_type": "code",
   "execution_count": 95,
   "metadata": {},
   "outputs": [
    {
     "data": {
      "text/html": [
       "<div>\n",
       "<style scoped>\n",
       "    .dataframe tbody tr th:only-of-type {\n",
       "        vertical-align: middle;\n",
       "    }\n",
       "\n",
       "    .dataframe tbody tr th {\n",
       "        vertical-align: top;\n",
       "    }\n",
       "\n",
       "    .dataframe thead th {\n",
       "        text-align: right;\n",
       "    }\n",
       "</style>\n",
       "<table border=\"1\" class=\"dataframe\">\n",
       "  <thead>\n",
       "    <tr style=\"text-align: right;\">\n",
       "      <th></th>\n",
       "      <th>Date</th>\n",
       "      <th>City</th>\n",
       "      <th>Crime</th>\n",
       "      <th>Specific crime</th>\n",
       "    </tr>\n",
       "  </thead>\n",
       "  <tbody>\n",
       "    <tr>\n",
       "      <th>0</th>\n",
       "      <td>25/08/2007</td>\n",
       "      <td>Chicago</td>\n",
       "      <td>Assault and Violent Crimes</td>\n",
       "      <td>ASSAULT</td>\n",
       "    </tr>\n",
       "    <tr>\n",
       "      <th>1</th>\n",
       "      <td>05/01/2002</td>\n",
       "      <td>Chicago</td>\n",
       "      <td>Theft and Property Offenses</td>\n",
       "      <td>THEFT</td>\n",
       "    </tr>\n",
       "    <tr>\n",
       "      <th>2</th>\n",
       "      <td>06/09/2023</td>\n",
       "      <td>Chicago</td>\n",
       "      <td>Miscellaneous Offenses</td>\n",
       "      <td>CRIMINAL DAMAGE</td>\n",
       "    </tr>\n",
       "    <tr>\n",
       "      <th>3</th>\n",
       "      <td>31/08/2023</td>\n",
       "      <td>Chicago</td>\n",
       "      <td>Fraud and Deception</td>\n",
       "      <td>DECEPTIVE PRACTICE</td>\n",
       "    </tr>\n",
       "    <tr>\n",
       "      <th>4</th>\n",
       "      <td>24/07/2023</td>\n",
       "      <td>Chicago</td>\n",
       "      <td>Sexual Offenses</td>\n",
       "      <td>CRIMINAL SEXUAL ASSAULT</td>\n",
       "    </tr>\n",
       "  </tbody>\n",
       "</table>\n",
       "</div>"
      ],
      "text/plain": [
       "         Date     City                        Crime           Specific crime\n",
       "0  25/08/2007  Chicago   Assault and Violent Crimes                  ASSAULT\n",
       "1  05/01/2002  Chicago  Theft and Property Offenses                    THEFT\n",
       "2  06/09/2023  Chicago       Miscellaneous Offenses          CRIMINAL DAMAGE\n",
       "3  31/08/2023  Chicago          Fraud and Deception       DECEPTIVE PRACTICE\n",
       "4  24/07/2023  Chicago              Sexual Offenses  CRIMINAL SEXUAL ASSAULT"
      ]
     },
     "execution_count": 95,
     "metadata": {},
     "output_type": "execute_result"
    }
   ],
   "source": [
    "chicago_raw.head()"
   ]
  },
  {
   "cell_type": "code",
   "execution_count": 94,
   "metadata": {},
   "outputs": [],
   "source": [
    "chicago_raw.to_csv('../data_standartized/chicago.csv', index=False)"
   ]
  }
 ],
 "metadata": {
  "kernelspec": {
   "display_name": "Python 3",
   "language": "python",
   "name": "python3"
  },
  "language_info": {
   "codemirror_mode": {
    "name": "ipython",
    "version": 3
   },
   "file_extension": ".py",
   "mimetype": "text/x-python",
   "name": "python",
   "nbconvert_exporter": "python",
   "pygments_lexer": "ipython3",
   "version": "3.11.4"
  },
  "orig_nbformat": 4
 },
 "nbformat": 4,
 "nbformat_minor": 2
}
