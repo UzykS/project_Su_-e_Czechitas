{
 "cells": [
  {
   "cell_type": "code",
   "execution_count": 83,
   "metadata": {},
   "outputs": [],
   "source": [
    "import pandas as pd"
   ]
  },
  {
   "cell_type": "code",
   "execution_count": 84,
   "metadata": {},
   "outputs": [],
   "source": [
    "ny = pd.read_csv('../data_standartized/new_york.csv', encoding=\"utf-8\", low_memory=False)"
   ]
  },
  {
   "cell_type": "code",
   "execution_count": 85,
   "metadata": {},
   "outputs": [],
   "source": [
    "bt = pd.read_csv('../data_standartized/boston.csv', encoding=\"utf-8\", low_memory=False)"
   ]
  },
  {
   "cell_type": "code",
   "execution_count": 86,
   "metadata": {},
   "outputs": [],
   "source": [
    "ph = pd.read_csv('../data_standartized/phoenix.csv', encoding=\"utf-8\", low_memory=False)"
   ]
  },
  {
   "cell_type": "code",
   "execution_count": 87,
   "metadata": {},
   "outputs": [],
   "source": [
    "cin = pd.read_csv('../data_standartized/cincinnati.csv', encoding=\"utf-8\", low_memory=False)"
   ]
  },
  {
   "cell_type": "code",
   "execution_count": 88,
   "metadata": {},
   "outputs": [],
   "source": [
    "ch = pd.read_csv('../data_standartized/chicago.csv', encoding=\"utf-8\", low_memory=False)"
   ]
  },
  {
   "cell_type": "code",
   "execution_count": 89,
   "metadata": {},
   "outputs": [],
   "source": [
    "dv = pd.read_csv('../data_standartized/denver.csv', encoding=\"utf-8\", low_memory=False)"
   ]
  },
  {
   "cell_type": "code",
   "execution_count": 90,
   "metadata": {},
   "outputs": [],
   "source": [
    "la = pd.read_csv('../data_standartized/los_angeles.csv', encoding=\"utf-8\", low_memory=False)"
   ]
  },
  {
   "cell_type": "code",
   "execution_count": 91,
   "metadata": {},
   "outputs": [],
   "source": [
    "cities = pd.concat([ny,bt,ph,cin,ch,la,dv])"
   ]
  },
  {
   "cell_type": "code",
   "execution_count": 92,
   "metadata": {},
   "outputs": [
    {
     "data": {
      "text/html": [
       "<div>\n",
       "<style scoped>\n",
       "    .dataframe tbody tr th:only-of-type {\n",
       "        vertical-align: middle;\n",
       "    }\n",
       "\n",
       "    .dataframe tbody tr th {\n",
       "        vertical-align: top;\n",
       "    }\n",
       "\n",
       "    .dataframe thead th {\n",
       "        text-align: right;\n",
       "    }\n",
       "</style>\n",
       "<table border=\"1\" class=\"dataframe\">\n",
       "  <thead>\n",
       "    <tr style=\"text-align: right;\">\n",
       "      <th></th>\n",
       "      <th>Date</th>\n",
       "      <th>City</th>\n",
       "      <th>Crime</th>\n",
       "      <th>Specific crime</th>\n",
       "    </tr>\n",
       "  </thead>\n",
       "  <tbody>\n",
       "    <tr>\n",
       "      <th>count</th>\n",
       "      <td>22324046</td>\n",
       "      <td>22325285</td>\n",
       "      <td>22226313</td>\n",
       "      <td>22311978</td>\n",
       "    </tr>\n",
       "    <tr>\n",
       "      <th>unique</th>\n",
       "      <td>9766</td>\n",
       "      <td>7</td>\n",
       "      <td>12</td>\n",
       "      <td>522</td>\n",
       "    </tr>\n",
       "    <tr>\n",
       "      <th>top</th>\n",
       "      <td>01/01/2011</td>\n",
       "      <td>New York</td>\n",
       "      <td>Theft and Property Offenses</td>\n",
       "      <td>THEFT</td>\n",
       "    </tr>\n",
       "    <tr>\n",
       "      <th>freq</th>\n",
       "      <td>6888</td>\n",
       "      <td>8353049</td>\n",
       "      <td>7763654</td>\n",
       "      <td>1850578</td>\n",
       "    </tr>\n",
       "  </tbody>\n",
       "</table>\n",
       "</div>"
      ],
      "text/plain": [
       "              Date      City                        Crime Specific crime\n",
       "count     22324046  22325285                     22226313       22311978\n",
       "unique        9766         7                           12            522\n",
       "top     01/01/2011  New York  Theft and Property Offenses          THEFT\n",
       "freq          6888   8353049                      7763654        1850578"
      ]
     },
     "execution_count": 92,
     "metadata": {},
     "output_type": "execute_result"
    }
   ],
   "source": [
    "cities.describe(include='all')"
   ]
  },
  {
   "cell_type": "code",
   "execution_count": 93,
   "metadata": {},
   "outputs": [],
   "source": [
    "hm = pd.read_csv('../data_standartized/holidays_and_moon.csv', encoding=\"utf-8\", low_memory=False)"
   ]
  },
  {
   "cell_type": "code",
   "execution_count": 94,
   "metadata": {},
   "outputs": [],
   "source": [
    "cities = pd.merge(cities,hm, on=\"Date\", how='left')"
   ]
  },
  {
   "cell_type": "code",
   "execution_count": 95,
   "metadata": {},
   "outputs": [
    {
     "data": {
      "text/html": [
       "<div>\n",
       "<style scoped>\n",
       "    .dataframe tbody tr th:only-of-type {\n",
       "        vertical-align: middle;\n",
       "    }\n",
       "\n",
       "    .dataframe tbody tr th {\n",
       "        vertical-align: top;\n",
       "    }\n",
       "\n",
       "    .dataframe thead th {\n",
       "        text-align: right;\n",
       "    }\n",
       "</style>\n",
       "<table border=\"1\" class=\"dataframe\">\n",
       "  <thead>\n",
       "    <tr style=\"text-align: right;\">\n",
       "      <th></th>\n",
       "      <th>Date</th>\n",
       "      <th>City</th>\n",
       "      <th>Crime</th>\n",
       "      <th>Specific crime</th>\n",
       "      <th>Day of the Week</th>\n",
       "      <th>Holiday</th>\n",
       "      <th>Full moon</th>\n",
       "    </tr>\n",
       "  </thead>\n",
       "  <tbody>\n",
       "    <tr>\n",
       "      <th>22325275</th>\n",
       "      <td>18/01/2017</td>\n",
       "      <td>Denver</td>\n",
       "      <td>Miscellaneous Offenses</td>\n",
       "      <td>All Other Offenses</td>\n",
       "      <td>Wednesday</td>\n",
       "      <td>NaN</td>\n",
       "      <td>NaN</td>\n",
       "    </tr>\n",
       "    <tr>\n",
       "      <th>22325276</th>\n",
       "      <td>17/01/2017</td>\n",
       "      <td>Denver</td>\n",
       "      <td>Miscellaneous Offenses</td>\n",
       "      <td>All Other Offenses</td>\n",
       "      <td>Tuesday</td>\n",
       "      <td>NaN</td>\n",
       "      <td>NaN</td>\n",
       "    </tr>\n",
       "    <tr>\n",
       "      <th>22325277</th>\n",
       "      <td>17/01/2017</td>\n",
       "      <td>Denver</td>\n",
       "      <td>Miscellaneous Offenses</td>\n",
       "      <td>All Other Offenses</td>\n",
       "      <td>Tuesday</td>\n",
       "      <td>NaN</td>\n",
       "      <td>NaN</td>\n",
       "    </tr>\n",
       "    <tr>\n",
       "      <th>22325278</th>\n",
       "      <td>17/01/2017</td>\n",
       "      <td>Denver</td>\n",
       "      <td>Miscellaneous Offenses</td>\n",
       "      <td>All Other Offenses</td>\n",
       "      <td>Tuesday</td>\n",
       "      <td>NaN</td>\n",
       "      <td>NaN</td>\n",
       "    </tr>\n",
       "    <tr>\n",
       "      <th>22325279</th>\n",
       "      <td>17/01/2017</td>\n",
       "      <td>Denver</td>\n",
       "      <td>Miscellaneous Offenses</td>\n",
       "      <td>All Other Offenses</td>\n",
       "      <td>Tuesday</td>\n",
       "      <td>NaN</td>\n",
       "      <td>NaN</td>\n",
       "    </tr>\n",
       "    <tr>\n",
       "      <th>22325280</th>\n",
       "      <td>17/01/2017</td>\n",
       "      <td>Denver</td>\n",
       "      <td>Miscellaneous Offenses</td>\n",
       "      <td>All Other Offenses</td>\n",
       "      <td>Tuesday</td>\n",
       "      <td>NaN</td>\n",
       "      <td>NaN</td>\n",
       "    </tr>\n",
       "    <tr>\n",
       "      <th>22325281</th>\n",
       "      <td>17/01/2017</td>\n",
       "      <td>Denver</td>\n",
       "      <td>Miscellaneous Offenses</td>\n",
       "      <td>All Other Offenses</td>\n",
       "      <td>Tuesday</td>\n",
       "      <td>NaN</td>\n",
       "      <td>NaN</td>\n",
       "    </tr>\n",
       "    <tr>\n",
       "      <th>22325282</th>\n",
       "      <td>17/01/2017</td>\n",
       "      <td>Denver</td>\n",
       "      <td>Miscellaneous Offenses</td>\n",
       "      <td>All Other Offenses</td>\n",
       "      <td>Tuesday</td>\n",
       "      <td>NaN</td>\n",
       "      <td>NaN</td>\n",
       "    </tr>\n",
       "    <tr>\n",
       "      <th>22325283</th>\n",
       "      <td>18/01/2017</td>\n",
       "      <td>Denver</td>\n",
       "      <td>Miscellaneous Offenses</td>\n",
       "      <td>All Other Offenses</td>\n",
       "      <td>Wednesday</td>\n",
       "      <td>NaN</td>\n",
       "      <td>NaN</td>\n",
       "    </tr>\n",
       "    <tr>\n",
       "      <th>22325284</th>\n",
       "      <td>17/01/2017</td>\n",
       "      <td>Denver</td>\n",
       "      <td>Assault and Violent Crimes</td>\n",
       "      <td>Other Assaults</td>\n",
       "      <td>Tuesday</td>\n",
       "      <td>NaN</td>\n",
       "      <td>NaN</td>\n",
       "    </tr>\n",
       "  </tbody>\n",
       "</table>\n",
       "</div>"
      ],
      "text/plain": [
       "                Date    City                       Crime      Specific crime  \\\n",
       "22325275  18/01/2017  Denver      Miscellaneous Offenses  All Other Offenses   \n",
       "22325276  17/01/2017  Denver      Miscellaneous Offenses  All Other Offenses   \n",
       "22325277  17/01/2017  Denver      Miscellaneous Offenses  All Other Offenses   \n",
       "22325278  17/01/2017  Denver      Miscellaneous Offenses  All Other Offenses   \n",
       "22325279  17/01/2017  Denver      Miscellaneous Offenses  All Other Offenses   \n",
       "22325280  17/01/2017  Denver      Miscellaneous Offenses  All Other Offenses   \n",
       "22325281  17/01/2017  Denver      Miscellaneous Offenses  All Other Offenses   \n",
       "22325282  17/01/2017  Denver      Miscellaneous Offenses  All Other Offenses   \n",
       "22325283  18/01/2017  Denver      Miscellaneous Offenses  All Other Offenses   \n",
       "22325284  17/01/2017  Denver  Assault and Violent Crimes      Other Assaults   \n",
       "\n",
       "         Day of the Week Holiday  Full moon  \n",
       "22325275       Wednesday     NaN        NaN  \n",
       "22325276         Tuesday     NaN        NaN  \n",
       "22325277         Tuesday     NaN        NaN  \n",
       "22325278         Tuesday     NaN        NaN  \n",
       "22325279         Tuesday     NaN        NaN  \n",
       "22325280         Tuesday     NaN        NaN  \n",
       "22325281         Tuesday     NaN        NaN  \n",
       "22325282         Tuesday     NaN        NaN  \n",
       "22325283       Wednesday     NaN        NaN  \n",
       "22325284         Tuesday     NaN        NaN  "
      ]
     },
     "execution_count": 95,
     "metadata": {},
     "output_type": "execute_result"
    }
   ],
   "source": [
    "cities.tail(10)"
   ]
  },
  {
   "cell_type": "code",
   "execution_count": 96,
   "metadata": {},
   "outputs": [],
   "source": [
    "import pyarrow.parquet\n",
    "import fastparquet\n",
    "\n",
    "\n",
    "cities['Crime'] = cities['Crime'].astype(str)\n",
    "cities.to_parquet('../data_standartized/cities.parquet', engine='auto', compression='gzip', index=None)"
   ]
  },
  {
   "cell_type": "code",
   "execution_count": null,
   "metadata": {},
   "outputs": [],
   "source": []
  }
 ],
 "metadata": {
  "kernelspec": {
   "display_name": "Python 3",
   "language": "python",
   "name": "python3"
  },
  "language_info": {
   "codemirror_mode": {
    "name": "ipython",
    "version": 3
   },
   "file_extension": ".py",
   "mimetype": "text/x-python",
   "name": "python",
   "nbconvert_exporter": "python",
   "pygments_lexer": "ipython3",
   "version": "3.11.5"
  },
  "orig_nbformat": 4
 },
 "nbformat": 4,
 "nbformat_minor": 2
}
